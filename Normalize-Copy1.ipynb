{
 "cells": [
  {
   "cell_type": "code",
   "execution_count": 2,
   "id": "54542333-6bc0-4460-a567-d0f2b7cf9c8b",
   "metadata": {},
   "outputs": [
    {
     "name": "stdout",
     "output_type": "stream",
     "text": [
      "[[  1   2   0   4]\n",
      " [  5   6   7   8]\n",
      " [  9 -10  11  12]\n",
      " [ -5  -6   7  18]]\n"
     ]
    }
   ],
   "source": [
    "import numpy as np\n",
    "\n",
    "# create a 2D array with shape (4, 4)\n",
    "arr = np.array([[1, 2, 0, 4], [5, 6, 7, 8], [9, -10, 11, 12], [-5, -6, 7, 18],])\n",
    "\n",
    "print(arr)"
   ]
  },
  {
   "cell_type": "code",
   "execution_count": 3,
   "id": "c99879b5-c4c3-4043-b450-28f8566c02dc",
   "metadata": {
    "tags": []
   },
   "outputs": [],
   "source": [
    "def normalize_matrix (matrix, do_norm = 0, bin_thresh = 0):\n",
    "    mini = matrix.min()\n",
    "    maxi = matrix.max()\n",
    "    if do_norm == 0:\n",
    "        print ('No normalization of structural connectivity matrix')\n",
    "    elif do_norm == 1:\n",
    "        print ('Binarization of structural matrix')\n",
    "        if bin_thresh == 0:\n",
    "            threshold = 0\n",
    "        elif mini <= bin_thresh <= maxi:\n",
    "            threshold = bin_thresh\n",
    "        else:\n",
    "            print('Threshold must be in values range. matrix minimum value > bin_thresh > matrix maxmimum value')\n",
    "        matrix = matrix > 0\n",
    "\n",
    "    elif do_norm == 2:\n",
    "        print ('Normalization of structural matrix')\n",
    "        matrix = matrix/maxi\n",
    "\n",
    "    else:\n",
    "        print('Specify normalization input. 0 = no normalization, 1 = binarize, 2 = normalize.')\n",
    "    return matrix"
   ]
  },
  {
   "cell_type": "code",
   "execution_count": 4,
   "id": "9a15816c-43f1-447b-8fb3-254322f3414a",
   "metadata": {
    "tags": []
   },
   "outputs": [
    {
     "name": "stdout",
     "output_type": "stream",
     "text": [
      "Binarization of structural matrix\n",
      "[[ True  True False  True]\n",
      " [ True  True  True  True]\n",
      " [ True False  True  True]\n",
      " [False False  True  True]]\n"
     ]
    }
   ],
   "source": [
    "M = normalize_matrix (arr, 1, 3)\n",
    "print(M)"
   ]
  },
  {
   "cell_type": "code",
   "execution_count": null,
   "id": "db935970-3d3e-4eeb-93c9-12b19ca78627",
   "metadata": {},
   "outputs": [],
   "source": []
  }
 ],
 "metadata": {
  "kernelspec": {
   "display_name": "Python 3 (ipykernel)",
   "language": "python",
   "name": "python3"
  },
  "language_info": {
   "codemirror_mode": {
    "name": "ipython",
    "version": 3
   },
   "file_extension": ".py",
   "mimetype": "text/x-python",
   "name": "python",
   "nbconvert_exporter": "python",
   "pygments_lexer": "ipython3",
   "version": "3.10.11"
  }
 },
 "nbformat": 4,
 "nbformat_minor": 5
}
