{
 "cells": [
  {
   "cell_type": "markdown",
   "id": "92f3cafc-4317-4561-abf2-eb653f7fe49b",
   "metadata": {},
   "source": [
    "This is the playground to test coneff code. The main implementation of coneff is in coneff.py"
   ]
  },
  {
   "cell_type": "code",
   "execution_count": 1,
   "id": "32e4249a-995f-4cb8-b91e-55d73a5f9cae",
   "metadata": {
    "tags": []
   },
   "outputs": [],
   "source": [
    "import numpy as np\n",
    "import nibabel as nib"
   ]
  },
  {
   "cell_type": "code",
   "execution_count": 2,
   "id": "4e4c4d6d-801a-4ca5-9100-2826c7b273b9",
   "metadata": {
    "tags": []
   },
   "outputs": [],
   "source": [
    "N = 10000\n",
    "struc_mat = np.random.rand(N,N)\n",
    "func_mat = np.random.rand(N,N)"
   ]
  },
  {
   "cell_type": "code",
   "execution_count": 3,
   "id": "b855f154-ca3c-4f49-ad41-879b8474841c",
   "metadata": {
    "tags": []
   },
   "outputs": [],
   "source": [
    "def preprocess_BOLD_coneff(func_mat):\n",
    "    #TODO: implement BOLD preprocessing\n",
    "    return func_mat"
   ]
  },
  {
   "cell_type": "code",
   "execution_count": 4,
   "id": "32d9c7b2-52bb-494f-82ae-dc0b10174a40",
   "metadata": {},
   "outputs": [],
   "source": [
    "def threshold_struc_mat(struc_mat, threshold):\n",
    "    return struc_mat * (struc_mat > threshold)"
   ]
  },
  {
   "cell_type": "code",
   "execution_count": 5,
   "id": "6b535050-a5ba-493d-a79a-34a76cb7fd18",
   "metadata": {},
   "outputs": [],
   "source": [
    "def compute_2ndstep_mat(struc_mat):\n",
    "    #TODO: implement 1 degree separation matrix\n",
    "    return struc_mat"
   ]
  },
  {
   "cell_type": "code",
   "execution_count": 6,
   "id": "de806789-9c98-4451-8361-7058be910a31",
   "metadata": {},
   "outputs": [],
   "source": [
    "def get_binary_mat(mat):\n",
    "    return mat > 0"
   ]
  },
  {
   "cell_type": "code",
   "execution_count": 7,
   "id": "16ad73f6-e251-44ab-afda-0dac9aabc432",
   "metadata": {},
   "outputs": [],
   "source": [
    "def normlaize_mat(mat):\n",
    "    max_val = np.max(mat)\n",
    "    mat = mat / max_val\n",
    "    return mat"
   ]
  },
  {
   "cell_type": "code",
   "execution_count": 8,
   "id": "70ff20cf-a8af-4318-beb3-88ca5e8f4e6a",
   "metadata": {},
   "outputs": [],
   "source": [
    "def gradient_descrent(error_th, maxiter, brain_par, skip_bold, lr, use_multistep, averaged_bold_seq, M, noconn, M_2nstep = None, gd_pass = 1):\n",
    "    #TODO: check if multistep, have to input M_2nstep\n",
    "    iter = 0\n",
    "    etem = []\n",
    "    while error_des > error_th and iter < maxiter:\n",
    "        error_des = 0\n",
    "        gradient = np.zeros((brain_par, brain_par))\n",
    "        \n",
    "        t = averaged_bold_seq.shape[1]\n",
    "\n",
    "        for jj in range(skip_bold, t - 1):\n",
    "            if gd_pass == 1:\n",
    "                error_des += np.linalg.norm(\n",
    "                    np.dot(M, averaged_bold_seq[jj, :]) - averaged_bold_seq[jj + 1, :]\n",
    "                )\n",
    "            elif gd_pass == 2:\n",
    "                error_des += np.linalg.norm(\n",
    "                    np.dot(M, averaged_bold_seq[jj, :])\n",
    "                    + np.dot(M_2nstep, averaged_bold_seq[jj, :])\n",
    "                    - averaged_bold_seq[jj + 1, :]\n",
    "                )\n",
    "\n",
    "        error_des *= 0.5\n",
    "        etem.append(error_des)\n",
    "\n",
    "        for jj in range(skip_bold, t - 1):\n",
    "            gradient += (\n",
    "                np.dot(M, averaged_bold_seq[jj, :])\n",
    "                + np.dot(M_2nstep, averaged_bold_seq[jj, :])\n",
    "                - averaged_bold_seq[jj + 1, :]\n",
    "            )\n",
    "\n",
    "        if gd_pass == 1:\n",
    "            M = M - lr * gradient\n",
    "            M = M * noconn\n",
    "        elif gd_pass == 2:\n",
    "            M_2nstep = M_2nstep - lr * gradient\n",
    "            M_2nstep = M_2nstep * noconn\n",
    "            \n",
    "        iter += 1\n",
    "        \n",
    "    return M, M_2nstep, etem #effective connectivity matrix, error over iterations"
   ]
  },
  {
   "cell_type": "code",
   "execution_count": 9,
   "id": "d78c7529-f221-4fef-9c55-ed2cc6d4a98d",
   "metadata": {
    "tags": []
   },
   "outputs": [],
   "source": [
    "def structured_G_causality(struc_mat, bold_seq, norm_opt, use_multistep, use_deconv):\n",
    "    #TODO: check data structure of struc_mat and bold_seq\n",
    "    \n",
    "    norm_opt = 1\n",
    "    brain_par = 264\n",
    "    maxiter = 5000\n",
    "    maxiter2 = 5000\n",
    "    error_th = 0.016\n",
    "    lr = 0.000005\n",
    "    lr2 = 0.00001\n",
    "    skip_bold = 5\n",
    "    structural_thres = 0.5\n",
    "    use_multistep = 1\n",
    "\n",
    "    averaged_bold_seq = preprocess_BOLD_coneff(bold_seq)\n",
    "     \n",
    "    structure_direct = threshold_struc_mat(struc_mat, structural_thres)\n",
    "    structure_2nstep = threshold_struc_mat(compute_2ndstep_mat(struc_mat), structural_thres)\n",
    "\n",
    "    if norm_opt == 1:\n",
    "        print(\"Initial matrix binarized\")\n",
    "        M = get_binary_mat(structure_direct)\n",
    "        M_2nstep = get_binary_mat(structure_2nstep)\n",
    "        \n",
    "    elif norm_opt == 2:\n",
    "        print(\"Initial matrix normalized according to its largest value\")\n",
    "        M = normlaize_mat(structure_direct)\n",
    "        M_2nstep = normlaize_mat(structure_2nstep)\n",
    "        \n",
    "    noconn_M = M.astype(bool)\n",
    "    noconn_M2 = M_2nstep.astype(bool)\n",
    "\n",
    "    M, M_2nstep ,etem = gradient_descrent(error_th, maxiter, brain_par, skip_bold, lr, use_multistep, averaged_bold_seq, M, noconn_M, M_2nstep, 1)\n",
    "    if use_multistep:\n",
    "        M, M_2nstep, etem_2 = gradient_descrent(error_th, maxiter2, brain_par, skip_bold, lr2, use_multistep, averaged_bold_seq, M,noconn_M, M_2nstep, 2)\n",
    "    \n",
    "    \n",
    "    etem = np.array(etem)\n",
    "    etem = etem[etem != 0]\n",
    "    if use_multistep:\n",
    "        etem2 = np.array(etem2)\n",
    "        etem2 = etem2[etem2 != 0]\n",
    "\n",
    "    return M"
   ]
  },
  {
   "cell_type": "code",
   "execution_count": null,
   "id": "e2844deb-89da-4a7b-b000-8eebc3223abe",
   "metadata": {},
   "outputs": [],
   "source": []
  }
 ],
 "metadata": {
  "kernelspec": {
   "display_name": "Python 3 (ipykernel)",
   "language": "python",
   "name": "python3"
  },
  "language_info": {
   "codemirror_mode": {
    "name": "ipython",
    "version": 3
   },
   "file_extension": ".py",
   "mimetype": "text/x-python",
   "name": "python",
   "nbconvert_exporter": "python",
   "pygments_lexer": "ipython3",
   "version": "3.10.11"
  }
 },
 "nbformat": 4,
 "nbformat_minor": 5
}
