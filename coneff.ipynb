{
 "cells": [
  {
   "cell_type": "markdown",
   "id": "92f3cafc-4317-4561-abf2-eb653f7fe49b",
   "metadata": {},
   "source": [
    "This is the playground to test coneff code. The main implementation of coneff is in coneff.py"
   ]
  },
  {
   "cell_type": "code",
   "execution_count": 1,
   "id": "32e4249a-995f-4cb8-b91e-55d73a5f9cae",
   "metadata": {
    "tags": []
   },
   "outputs": [],
   "source": [
    "import numpy as np\n",
    "import nibabel as nib"
   ]
  },
  {
   "cell_type": "code",
   "execution_count": 2,
   "id": "4e4c4d6d-801a-4ca5-9100-2826c7b273b9",
   "metadata": {
    "tags": []
   },
   "outputs": [],
   "source": [
    "N = 10000\n",
    "struc_mat = np.random.rand(N,N)\n",
    "func_mat = np.random.rand(N,N)"
   ]
  },
  {
   "cell_type": "code",
   "execution_count": 3,
   "id": "b855f154-ca3c-4f49-ad41-879b8474841c",
   "metadata": {
    "tags": []
   },
   "outputs": [],
   "source": [
    "def preprocess_BOLD_coneff(func_mat):\n",
    "    #TODO: implement BOLD preprocessing\n",
    "    return func_mat"
   ]
  },
  {
   "cell_type": "code",
   "execution_count": null,
   "id": "32d9c7b2-52bb-494f-82ae-dc0b10174a40",
   "metadata": {},
   "outputs": [],
   "source": [
    "def threshold_struc_mat(struc_mat, threshold):\n",
    "    return struc_mat * (struc_mat > threshold)"
   ]
  },
  {
   "cell_type": "code",
   "execution_count": null,
   "id": "6b535050-a5ba-493d-a79a-34a76cb7fd18",
   "metadata": {},
   "outputs": [],
   "source": [
    "def compute_2ndstep_mat(struc_mat):\n",
    "    #TODO: implement 1 degree separation matrix\n",
    "    return struc_mat"
   ]
  },
  {
   "cell_type": "code",
   "execution_count": null,
   "id": "de806789-9c98-4451-8361-7058be910a31",
   "metadata": {},
   "outputs": [],
   "source": [
    "def get_binary_mat(mat):\n",
    "    return mat > 0"
   ]
  },
  {
   "cell_type": "code",
   "execution_count": null,
   "id": "16ad73f6-e251-44ab-afda-0dac9aabc432",
   "metadata": {},
   "outputs": [],
   "source": [
    "def normlaize_mat(mat):\n",
    "    max_val = np.max(mat)\n",
    "    mat = mat / max_val\n",
    "    return mat"
   ]
  },
  {
   "cell_type": "code",
   "execution_count": null,
   "id": "70ff20cf-a8af-4318-beb3-88ca5e8f4e6a",
   "metadata": {},
   "outputs": [],
   "source": [
    "def gradient_descrent(error_th, maxiter, brain_par, skip_bold, averaged_bold_seq, M):\n",
    "    iter = 0\n",
    "    etem = []\n",
    "    while error_des > error_th and iter < maxiter:\n",
    "        error_des = 0\n",
    "        gradient = np.zeros((brain_par, brain_par))\n",
    "\n",
    "        for jj in range(skip_bold, t - 1):\n",
    "            error_des += np.linalg.norm(\n",
    "                np.dot(M, averaged_bold_seq[jj, :]) - averaged_bold_seq[jj + 1, :]\n",
    "            )\n",
    "\n",
    "        error_des *= 0.5\n",
    "        etem.append(error_des)\n",
    "\n",
    "        for jj in range(skip_bold, t - 1):\n",
    "            if use_multistep:\n",
    "                gradient += (\n",
    "                    np.dot(M, averaged_bold_seq[jj, :])\n",
    "                    + np.dot(M_2nstep, averaged_bold_seq[jj, :])\n",
    "                    - averaged_bold_seq[jj + 1, :]\n",
    "                )\n",
    "            else:\n",
    "                gradient += (\n",
    "                    np.dot(M, averaged_bold_seq[jj, :]) - averaged_bold_seq[jj + 1, :]\n",
    "                )\n",
    "\n",
    "        M = M - eta * gradient\n",
    "        M = M * noconn_M\n",
    "        iter += 1"
   ]
  },
  {
   "cell_type": "code",
   "execution_count": 1,
   "id": "d78c7529-f221-4fef-9c55-ed2cc6d4a98d",
   "metadata": {
    "tags": []
   },
   "outputs": [
    {
     "ename": "FileNotFoundError",
     "evalue": "No such file or no access: 'path/to/session/4/NIFTI/BOLDrestingCAP_pp_final.nii'",
     "output_type": "error",
     "traceback": [
      "\u001b[0;31m---------------------------------------------------------------------------\u001b[0m",
      "\u001b[0;31mFileNotFoundError\u001b[0m                         Traceback (most recent call last)",
      "File \u001b[0;32m/srv/conda/envs/notebook/lib/python3.10/site-packages/nibabel/loadsave.py:100\u001b[0m, in \u001b[0;36mload\u001b[0;34m(filename, **kwargs)\u001b[0m\n\u001b[1;32m     99\u001b[0m \u001b[38;5;28;01mtry\u001b[39;00m:\n\u001b[0;32m--> 100\u001b[0m     stat_result \u001b[38;5;241m=\u001b[39m \u001b[43mos\u001b[49m\u001b[38;5;241;43m.\u001b[39;49m\u001b[43mstat\u001b[49m\u001b[43m(\u001b[49m\u001b[43mfilename\u001b[49m\u001b[43m)\u001b[49m\n\u001b[1;32m    101\u001b[0m \u001b[38;5;28;01mexcept\u001b[39;00m \u001b[38;5;167;01mOSError\u001b[39;00m:\n",
      "\u001b[0;31mFileNotFoundError\u001b[0m: [Errno 2] No such file or directory: 'path/to/session/4/NIFTI/BOLDrestingCAP_pp_final.nii'",
      "\nDuring handling of the above exception, another exception occurred:\n",
      "\u001b[0;31mFileNotFoundError\u001b[0m                         Traceback (most recent call last)",
      "Cell \u001b[0;32mIn[1], line 141\u001b[0m\n\u001b[1;32m    138\u001b[0m use_multistep \u001b[38;5;241m=\u001b[39m \u001b[38;5;241m1\u001b[39m\n\u001b[1;32m    139\u001b[0m use_deconv \u001b[38;5;241m=\u001b[39m \u001b[38;5;241m1\u001b[39m\n\u001b[0;32m--> 141\u001b[0m \u001b[43mstructured_G_causality\u001b[49m\u001b[43m(\u001b[49m\u001b[43mname_session\u001b[49m\u001b[43m,\u001b[49m\u001b[43m \u001b[49m\u001b[43mname_fold\u001b[49m\u001b[43m,\u001b[49m\u001b[43m \u001b[49m\u001b[43mnorm_opt\u001b[49m\u001b[43m,\u001b[49m\u001b[43m \u001b[49m\u001b[43muse_multistep\u001b[49m\u001b[43m,\u001b[49m\u001b[43m \u001b[49m\u001b[43muse_deconv\u001b[49m\u001b[43m)\u001b[49m\n",
      "Cell \u001b[0;32mIn[1], line 16\u001b[0m, in \u001b[0;36mstructured_G_causality\u001b[0;34m(name_session, name_fold, norm_opt, use_multistep, use_deconv)\u001b[0m\n\u001b[1;32m     13\u001b[0m min_tract_num \u001b[38;5;241m=\u001b[39m \u001b[38;5;241m2\u001b[39m\n\u001b[1;32m     15\u001b[0m folder_bold \u001b[38;5;241m=\u001b[39m \u001b[38;5;124mf\u001b[39m\u001b[38;5;124m\"\u001b[39m\u001b[38;5;132;01m{\u001b[39;00mname_session\u001b[38;5;132;01m}\u001b[39;00m\u001b[38;5;124m/4/NIFTI/\u001b[39m\u001b[38;5;124m\"\u001b[39m\n\u001b[0;32m---> 16\u001b[0m bold_file \u001b[38;5;241m=\u001b[39m \u001b[43mnib\u001b[49m\u001b[38;5;241;43m.\u001b[39;49m\u001b[43mload\u001b[49m\u001b[43m(\u001b[49m\u001b[38;5;124;43mf\u001b[39;49m\u001b[38;5;124;43m\"\u001b[39;49m\u001b[38;5;132;43;01m{\u001b[39;49;00m\u001b[43mfolder_bold\u001b[49m\u001b[38;5;132;43;01m}\u001b[39;49;00m\u001b[38;5;124;43mBOLDrestingCAP_pp_final.nii\u001b[39;49m\u001b[38;5;124;43m\"\u001b[39;49m\u001b[43m)\u001b[49m\n\u001b[1;32m     17\u001b[0m bold_sequence \u001b[38;5;241m=\u001b[39m bold_file\u001b[38;5;241m.\u001b[39mget_fdata()\n\u001b[1;32m     18\u001b[0m r, c, d, t \u001b[38;5;241m=\u001b[39m bold_sequence\u001b[38;5;241m.\u001b[39mshape\n",
      "File \u001b[0;32m/srv/conda/envs/notebook/lib/python3.10/site-packages/nibabel/loadsave.py:102\u001b[0m, in \u001b[0;36mload\u001b[0;34m(filename, **kwargs)\u001b[0m\n\u001b[1;32m    100\u001b[0m     stat_result \u001b[38;5;241m=\u001b[39m os\u001b[38;5;241m.\u001b[39mstat(filename)\n\u001b[1;32m    101\u001b[0m \u001b[38;5;28;01mexcept\u001b[39;00m \u001b[38;5;167;01mOSError\u001b[39;00m:\n\u001b[0;32m--> 102\u001b[0m     \u001b[38;5;28;01mraise\u001b[39;00m \u001b[38;5;167;01mFileNotFoundError\u001b[39;00m(\u001b[38;5;124mf\u001b[39m\u001b[38;5;124m\"\u001b[39m\u001b[38;5;124mNo such file or no access: \u001b[39m\u001b[38;5;124m'\u001b[39m\u001b[38;5;132;01m{\u001b[39;00mfilename\u001b[38;5;132;01m}\u001b[39;00m\u001b[38;5;124m'\u001b[39m\u001b[38;5;124m\"\u001b[39m)\n\u001b[1;32m    103\u001b[0m \u001b[38;5;28;01mif\u001b[39;00m stat_result\u001b[38;5;241m.\u001b[39mst_size \u001b[38;5;241m<\u001b[39m\u001b[38;5;241m=\u001b[39m \u001b[38;5;241m0\u001b[39m:\n\u001b[1;32m    104\u001b[0m     \u001b[38;5;28;01mraise\u001b[39;00m ImageFileError(\u001b[38;5;124mf\u001b[39m\u001b[38;5;124m\"\u001b[39m\u001b[38;5;124mEmpty file: \u001b[39m\u001b[38;5;124m'\u001b[39m\u001b[38;5;132;01m{\u001b[39;00mfilename\u001b[38;5;132;01m}\u001b[39;00m\u001b[38;5;124m'\u001b[39m\u001b[38;5;124m\"\u001b[39m)\n",
      "\u001b[0;31mFileNotFoundError\u001b[0m: No such file or no access: 'path/to/session/4/NIFTI/BOLDrestingCAP_pp_final.nii'"
     ]
    }
   ],
   "source": [
    "def structured_G_causality(struc_mat, bold_seq, norm_opt, use_multistep, use_deconv):\n",
    "    #TODO: check data structure of struc_mat and bold_seq\n",
    "    \n",
    "    brain_par = 264\n",
    "    maxiter = 5000\n",
    "    maxiter2 = 5000\n",
    "    error_th = 0.016\n",
    "    eta = 0.000005\n",
    "    eta2 = 0.00001\n",
    "    skip_bold = 5\n",
    "    structural_thres = 0.5\n",
    "\n",
    "    averaged_bold_seq = preprocess_BOLD_coneff(bold_seq)\n",
    "     \n",
    "    structure_direct = threshold_struc_mat(struc_mat, structural_thres)\n",
    "    structure_2nstep = threshold_struc_mat(compute_2ndstep_mat(struc_mat), structural_thres)\n",
    "\n",
    "    if norm_opt == 1:\n",
    "        print(\"Initial matrix binarized\")\n",
    "        M = get_binary_mat(structure_direct)\n",
    "        M_2nstep = get_binary_mat(structure_2nstep)\n",
    "        \n",
    "    elif norm_opt == 2:\n",
    "        print(\"Initial matrix normalized according to its largest value\")\n",
    "        M = normlaize_mat(structure_direct)\n",
    "        M_2nstep = normlaize_mat(structure_2nstep)\n",
    "        \n",
    "    noconn_M = M.astype(bool)\n",
    "    noconn_M2 = M_2nstep.astype(bool)\n",
    "\n",
    "    '''\n",
    "    gr\n",
    "    '''\n",
    "    \n",
    "\n",
    "    if use_multistep:\n",
    "        error_des = 1e10\n",
    "        iter = 0\n",
    "        etem2 = []\n",
    "        while error_des > th and iter < maxiter2:\n",
    "            error_des = 0\n",
    "            gradient2 = np.zeros((brain_par, brain_par))\n",
    "            gradient = np.zeros((brain_par, brain_par))\n",
    "\n",
    "            for jj in range(skip_bold, t - 1):\n",
    "                error_des += np.linalg.norm(\n",
    "                    np.dot(M, averaged_bold_seq[jj, :])\n",
    "                    + np.dot(M_2nstep, averaged_bold_seq[jj, :])\n",
    "                    - averaged_bold_seq[jj + 1, :]\n",
    "                )\n",
    "\n",
    "            error_des *= 0.5\n",
    "            etem2.append(error_des)\n",
    "\n",
    "            for jj in range(skip_bold, t - 1):\n",
    "                gradient2 += (\n",
    "                    np.dot(M, averaged_bold_seq[jj, :])\n",
    "                    + np.dot(M_2nstep, averaged_bold_seq[jj, :])\n",
    "                    - averaged_bold_seq[jj + 1, :]\n",
    "                )\n",
    "\n",
    "            M_2nstep = M_2nstep - eta2 * gradient2\n",
    "            M_2nstep = M_2nstep * noconn_M2\n",
    "            iter += 1\n",
    "\n",
    "    etem = np.array(etem)\n",
    "    etem = etem[etem != 0]\n",
    "    if use_multistep:\n",
    "        etem2 = np.array(etem2)\n",
    "        etem2 = etem2[etem2 != 0]\n",
    "\n",
    "    np.save(f\"{connectome_folder}{name_fold}_eff_conn1.npy\", M)\n",
    "\n",
    "name_session = \"path/to/session\"\n",
    "name_fold = \"MR_9421819_1328\"\n",
    "norm_opt = 1\n",
    "use_multistep = 1\n",
    "use_deconv = 1\n",
    "\n",
    "structured_G_causality(name_session, name_fold, norm_opt, use_multistep, use_deconv)\n"
   ]
  }
 ],
 "metadata": {
  "kernelspec": {
   "display_name": "Python 3 (ipykernel)",
   "language": "python",
   "name": "python3"
  },
  "language_info": {
   "codemirror_mode": {
    "name": "ipython",
    "version": 3
   },
   "file_extension": ".py",
   "mimetype": "text/x-python",
   "name": "python",
   "nbconvert_exporter": "python",
   "pygments_lexer": "ipython3",
   "version": "3.10.11"
  }
 },
 "nbformat": 4,
 "nbformat_minor": 5
}
