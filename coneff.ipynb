{
 "cells": [
  {
   "cell_type": "code",
   "execution_count": 6,
   "metadata": {},
   "outputs": [],
   "source": [
    "import numpy as np\n",
    "import nibabel as nib"
   ]
  },
  {
   "cell_type": "code",
   "execution_count": 1,
   "metadata": {},
   "outputs": [],
   "source": [
    "\n",
    "#raise error if data type doesn't match 4D array -> function expects preprocessed BOLD fMRI file \n",
    "import numpy as np\n",
    "\n",
    "# Define the dimensions of the 4D array (shape: (x, y, z, t))\n",
    "x_dim = 10  # Number of rows in each 3D slice\n",
    "y_dim = 10  # Number of columns in each 3D slice\n",
    "z_dim = 5   # Number of slices\n",
    "t_dim = 20  # Number of time points\n",
    "\n",
    "# Generate a random 4D array\n",
    "random_4d_array = np.random.rand(x_dim, y_dim, z_dim, t_dim)\n"
   ]
  },
  {
   "cell_type": "code",
   "execution_count": 56,
   "metadata": {},
   "outputs": [
    {
     "name": "stdout",
     "output_type": "stream",
     "text": [
      "Saved Subjects/Subject_1/fake_BOLD.nii\n",
      "Saved Subjects/Subject_2/fake_BOLD.nii\n",
      "Saved Subjects/Subject_3/fake_BOLD.nii\n",
      "Saved Subjects/Subject_4/fake_BOLD.nii\n",
      "Saved Subjects/Subject_5/fake_BOLD.nii\n",
      "Saved Subjects/Subject_6/fake_BOLD.nii\n",
      "Saved Subjects/Subject_7/fake_BOLD.nii\n",
      "Saved Subjects/Subject_8/fake_BOLD.nii\n",
      "Saved Subjects/Subject_9/fake_BOLD.nii\n",
      "Saved Subjects/Subject_10/fake_BOLD.nii\n",
      "Saved Subjects/Subject_11/fake_BOLD.nii\n",
      "Saved Subjects/Subject_12/fake_BOLD.nii\n",
      "Saved Subjects/Subject_13/fake_BOLD.nii\n",
      "Saved Subjects/Subject_14/fake_BOLD.nii\n",
      "Saved Subjects/Subject_15/fake_BOLD.nii\n",
      "Saved Subjects/Subject_16/fake_BOLD.nii\n",
      "Saved Subjects/Subject_17/fake_BOLD.nii\n",
      "Saved Subjects/Subject_18/fake_BOLD.nii\n",
      "Saved Subjects/Subject_19/fake_BOLD.nii\n",
      "Saved Subjects/Subject_20/fake_BOLD.nii\n"
     ]
    }
   ],
   "source": [
    "##Create fake BOLD signal file\n",
    "\n",
    "import os\n",
    "import numpy as np\n",
    "import nibabel as nib\n",
    "\n",
    "# Atlas dimensions\n",
    "x_dim = 91\n",
    "y_dim = 109\n",
    "z_dim = 91\n",
    "\n",
    "# Number of time points\n",
    "t_dim = 200\n",
    "\n",
    "# Number of brain areas in the atlas\n",
    "brain_par = 360\n",
    "\n",
    "# Create the \"Subjects\" directory if it doesn't exist\n",
    "subjects_directory = \"Subjects\"\n",
    "if not os.path.exists(subjects_directory):\n",
    "    os.makedirs(subjects_directory)\n",
    "\n",
    "# Generate and save 20 different fake BOLD signal files, one for each subject\n",
    "num_subjects = 20\n",
    "for subject_idx in range(1, num_subjects + 1):\n",
    "    # Generate random BOLD signal data\n",
    "    random_bold_data = np.random.randn(x_dim, y_dim, z_dim, t_dim)\n",
    "    \n",
    "    # Create a NIfTI image header\n",
    "    header = nib.Nifti1Header()\n",
    "    header.set_data_dtype(np.float32)\n",
    "    \n",
    "    # Save BOLD signal data as a NIfTI file\n",
    "    bold_nifti = nib.Nifti1Image(random_bold_data, np.eye(4), header=header)\n",
    "    \n",
    "    # Save the NIfTI file without compression in the \"Subjects\" folder\n",
    "    file_name = f\"fake_BOLD.nii\"\n",
    "    subject_directory = os.path.join(subjects_directory, f\"Subject_{subject_idx}\")\n",
    "    if not os.path.exists(subject_directory):\n",
    "        os.makedirs(subject_directory)\n",
    "    file_path = os.path.join(subject_directory, file_name)\n",
    "    nib.save(bold_nifti, file_path)\n",
    "    print(f\"Saved {file_path}\")\n",
    "\n"
   ]
  },
  {
   "cell_type": "code",
   "execution_count": null,
   "metadata": {},
   "outputs": [],
   "source": []
  },
  {
   "cell_type": "code",
   "execution_count": 57,
   "metadata": {},
   "outputs": [
    {
     "name": "stdout",
     "output_type": "stream",
     "text": [
      "Loaded BOLD file: /Users/neuro-240/Documents/Subjects/Subject_12/fake_BOLD.nii, Shape: (91, 109, 91, 200)\n",
      "Loaded BOLD file: /Users/neuro-240/Documents/Subjects/Subject_15/fake_BOLD.nii, Shape: (91, 109, 91, 200)\n",
      "Loaded BOLD file: /Users/neuro-240/Documents/Subjects/Subject_14/fake_BOLD.nii, Shape: (91, 109, 91, 200)\n",
      "Loaded BOLD file: /Users/neuro-240/Documents/Subjects/Subject_13/fake_BOLD.nii, Shape: (91, 109, 91, 200)\n",
      "Loaded BOLD file: /Users/neuro-240/Documents/Subjects/Subject_4/fake_BOLD.nii, Shape: (91, 109, 91, 200)\n",
      "Loaded BOLD file: /Users/neuro-240/Documents/Subjects/Subject_3/fake_BOLD.nii, Shape: (91, 109, 91, 200)\n",
      "Loaded BOLD file: /Users/neuro-240/Documents/Subjects/Subject_2/fake_BOLD.nii, Shape: (91, 109, 91, 200)\n",
      "Loaded BOLD file: /Users/neuro-240/Documents/Subjects/Subject_5/fake_BOLD.nii, Shape: (91, 109, 91, 200)\n",
      "Loaded BOLD file: /Users/neuro-240/Documents/Subjects/Subject_16/fake_BOLD.nii, Shape: (91, 109, 91, 200)\n",
      "Loaded BOLD file: /Users/neuro-240/Documents/Subjects/Subject_11/fake_BOLD.nii, Shape: (91, 109, 91, 200)\n",
      "Loaded BOLD file: /Users/neuro-240/Documents/Subjects/Subject_18/fake_BOLD.nii, Shape: (91, 109, 91, 200)\n",
      "Loaded BOLD file: /Users/neuro-240/Documents/Subjects/Subject_20/fake_BOLD.nii, Shape: (91, 109, 91, 200)\n",
      "Loaded BOLD file: /Users/neuro-240/Documents/Subjects/Subject_19/fake_BOLD.nii, Shape: (91, 109, 91, 200)\n",
      "Loaded BOLD file: /Users/neuro-240/Documents/Subjects/Subject_10/fake_BOLD.nii, Shape: (91, 109, 91, 200)\n",
      "Loaded BOLD file: /Users/neuro-240/Documents/Subjects/Subject_17/fake_BOLD.nii, Shape: (91, 109, 91, 200)\n",
      "Loaded BOLD file: /Users/neuro-240/Documents/Subjects/Subject_7/fake_BOLD.nii, Shape: (91, 109, 91, 200)\n",
      "Loaded BOLD file: /Users/neuro-240/Documents/Subjects/Subject_9/fake_BOLD.nii, Shape: (91, 109, 91, 200)\n",
      "Loaded BOLD file: /Users/neuro-240/Documents/Subjects/Subject_8/fake_BOLD.nii, Shape: (91, 109, 91, 200)\n",
      "Loaded BOLD file: /Users/neuro-240/Documents/Subjects/Subject_6/fake_BOLD.nii, Shape: (91, 109, 91, 200)\n"
     ]
    }
   ],
   "source": [
    "import os\n",
    "import glob\n",
    "import nibabel as nib\n",
    "import numpy as np\n",
    "\n",
    "# Directory where subject folders are located\n",
    "name_session = \"/Users/neuro-240/Documents/Subjects\"\n",
    "subjects_directory = name_session\n",
    "\n",
    "# Search for all subject folders\n",
    "subject_folders = glob.glob(os.path.join(subjects_directory, \"Subject_*\"))\n",
    "\n",
    "# Loop through each subject's folder\n",
    "for subject_folder in subject_folders:\n",
    "    bold_file_path = os.path.join(subject_folder, \"fake_BOLD.nii\")\n",
    "    if os.path.exists(bold_file_path):\n",
    "        bold_nifti = nib.load(bold_file_path)\n",
    "        bold_data = bold_nifti.get_fdata()\n",
    "        \n",
    "        # Process the bold_data as needed for each subject\n",
    "        r, c, d, t = bold_data.shape\n",
    "        averaged_bold_seq = np.zeros((t, brain_par))\n",
    "        \n",
    "        print(f\"Loaded BOLD file: {bold_file_path}, Shape: {bold_data.shape}\")\n",
    "    else:\n",
    "        print(f\"No BOLD file found for {subject_folder}\")\n"
   ]
  },
  {
   "cell_type": "code",
   "execution_count": 2,
   "metadata": {},
   "outputs": [],
   "source": [
    "\n",
    "# Load BOLD resting state data\n",
    "folder_bold = f\"{name_session}/4/NIFTI/\"\n",
    "bold_file = nib.load(f\"{folder_bold}BOLDrestingCAP_pp_final.nii\")\n",
    "bold_sequence = bold_file.get_fdata()\n",
    "r, c, d, t = bold_sequence.shape\n",
    "averaged_bold_seq = np.zeros((t, brain_par))\n",
    "\n",
    "# Load atlas registered to the BOLD file\n",
    "atlas_file = nib.load(f\"{folder_bold}atlas_reg.nii.gz\")\n",
    "atlas = atlas_file.get_fdata()\n",
    "\n",
    "# Averaging Bold signal\n",
    "for frame in range(t):\n",
    "    bold_frame = bold_sequence[:, :, :, frame]\n",
    "    for b in range(1, brain_par + 1):\n",
    "        temp = np.zeros(2)\n",
    "        for all_d in range(d):\n",
    "            indices_x, indices_y = np.where(atlas[:, :, all_d] == b)\n",
    "            for kk in range(len(indices_x)):\n",
    "                temp = np.append(temp, bold_frame[indices_x[kk], indices_y[kk], all_d])\n",
    "        temp = temp[temp != 0]\n",
    "        averaged_bold_seq[frame, b - 1] = np.mean(temp)\n",
    "\n",
    "# Remove mean from the already averaged bold sequences\n",
    "mean_sig = np.mean(averaged_bold_seq, axis=1)\n",
    "for b in range(brain_par):\n",
    "    averaged_bold_seq[:, b] -= mean_sig\n",
    "\n",
    "if use_deconv:\n",
    "    TR = 1.4\n",
    "    thr = 1\n",
    "    event_lag_max = round(10 / TR)\n",
    "    averaged_bold_seq, onset, hrf, event_lag, PARA = wgr_deconv_canonhrf_par(\n",
    "        averaged_bold_seq, thr, event_lag_max, TR\n",
    "    )\n"
   ]
  },
  {
   "cell_type": "markdown",
   "metadata": {},
   "source": []
  }
 ],
 "metadata": {
  "kernelspec": {
   "display_name": "Python 3.8.9 64-bit",
   "language": "python",
   "name": "python3"
  },
  "language_info": {
   "codemirror_mode": {
    "name": "ipython",
    "version": 3
   },
   "file_extension": ".py",
   "mimetype": "text/x-python",
   "name": "python",
   "nbconvert_exporter": "python",
   "pygments_lexer": "ipython3",
   "version": "3.9.7"
  },
  "orig_nbformat": 4,
  "vscode": {
   "interpreter": {
    "hash": "31f2aee4e71d21fbe5cf8b01ff0e069b9275f58929596ceb00d14d90e3e16cd6"
   }
  }
 },
 "nbformat": 4,
 "nbformat_minor": 2
}
