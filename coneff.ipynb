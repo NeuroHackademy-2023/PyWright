{
 "cells": [
  {
   "cell_type": "code",
   "execution_count": 6,
   "metadata": {},
   "outputs": [],
   "source": [
    "import numpy as np\n",
    "import nibabel as nib"
   ]
  },
  {
   "cell_type": "code",
   "execution_count": 1,
   "metadata": {},
   "outputs": [],
   "source": [
    "\n",
    "#raise error if data type doesn't match 4D array -> function expects preprocessed BOLD fMRI file \n",
    "import numpy as np\n",
    "\n",
    "# Define the dimensions of the 4D array (shape: (x, y, z, t))\n",
    "x_dim = 10  # Number of rows in each 3D slice\n",
    "y_dim = 10  # Number of columns in each 3D slice\n",
    "z_dim = 5   # Number of slices\n",
    "t_dim = 20  # Number of time points\n",
    "\n",
    "# Generate a random 4D array\n",
    "random_4d_array = np.random.rand(x_dim, y_dim, z_dim, t_dim)\n"
   ]
  },
  {
   "cell_type": "code",
   "execution_count": null,
   "metadata": {},
   "outputs": [],
   "source": [
    "\n",
    "# Load BOLD resting state data\n",
    "bold_file = nib.load(f\"{folder_bold}BOLDrestingCAP_pp_final.nii\")\n",
    "bold_sequence = bold_file.get_fdata()\n",
    "r, c, d, t = bold_sequence.shape\n",
    "averaged_bold_seq = np.zeros((t, brain_par))\n",
    "\n",
    "# Load atlas registered to the BOLD file\n",
    "atlas_file = nib.load(f\"{folder_bold}atlas_reg.nii.gz\")\n",
    "atlas = atlas_file.get_fdata()\n",
    "\n",
    "# Averaging Bold signal\n",
    "for frame in range(t):\n",
    "    bold_frame = bold_sequence[:, :, :, frame]\n",
    "    for b in range(1, brain_par + 1):\n",
    "        temp = np.zeros(2)\n",
    "        for all_d in range(d):\n",
    "            indices_x, indices_y = np.where(atlas[:, :, all_d] == b)\n",
    "            for kk in range(len(indices_x)):\n",
    "                temp = np.append(temp, bold_frame[indices_x[kk], indices_y[kk], all_d])\n",
    "        temp = temp[temp != 0]\n",
    "        averaged_bold_seq[frame, b - 1] = np.mean(temp)\n",
    "\n",
    "# Remove mean from the already averaged bold sequences\n",
    "mean_sig = np.mean(averaged_bold_seq, axis=1)\n",
    "for b in range(brain_par):\n",
    "    averaged_bold_seq[:, b] -= mean_sig\n",
    "\n",
    "if use_deconv:\n",
    "    TR = 1.4\n",
    "    thr = 1\n",
    "    event_lag_max = round(10 / TR)\n",
    "    averaged_bold_seq, onset, hrf, event_lag, PARA = wgr_deconv_canonhrf_par(\n",
    "        averaged_bold_seq, thr, event_lag_max, TR\n",
    "    )\n"
   ]
  },
  {
   "cell_type": "markdown",
   "metadata": {},
   "source": []
  }
 ],
 "metadata": {
  "kernelspec": {
   "display_name": "Python 3.8.9 64-bit",
   "language": "python",
   "name": "python3"
  },
  "language_info": {
   "codemirror_mode": {
    "name": "ipython",
    "version": 3
   },
   "file_extension": ".py",
   "mimetype": "text/x-python",
   "name": "python",
   "nbconvert_exporter": "python",
   "pygments_lexer": "ipython3",
   "version": "3.9.7"
  },
  "orig_nbformat": 4,
  "vscode": {
   "interpreter": {
    "hash": "31f2aee4e71d21fbe5cf8b01ff0e069b9275f58929596ceb00d14d90e3e16cd6"
   }
  }
 },
 "nbformat": 4,
 "nbformat_minor": 2
}
