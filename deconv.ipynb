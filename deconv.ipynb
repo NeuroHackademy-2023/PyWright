{
  "metadata": {
    "language_info": {
      "codemirror_mode": {
        "name": "python",
        "version": 3
      },
      "file_extension": ".py",
      "mimetype": "text/x-python",
      "name": "python",
      "nbconvert_exporter": "python",
      "pygments_lexer": "ipython3",
      "version": "3.8"
    },
    "kernelspec": {
      "name": "python",
      "display_name": "Python (Pyodide)",
      "language": "python"
    }
  },
  "nbformat_minor": 4,
  "nbformat": 4,
  "cells": [
    {
      "cell_type": "code",
      "source": "# Deconvolution (if use_deconv is true)\nif use_deconv:\n        TR = 1.4\n        thr = 1\n        event_lag_max = round(10 / TR) \n        averaged_bold_seq, onset, hrf, event_lag, PARA = wgr_deconv_canonhrf_par(\n            averaged_bold_seq, thr, event_lag_max, TR\n        )",
      "metadata": {},
      "execution_count": null,
      "outputs": []
    }
  ]
}