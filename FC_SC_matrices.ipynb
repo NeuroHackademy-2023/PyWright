{
 "cells": [
  {
   "cell_type": "code",
   "execution_count": 1,
   "id": "b4369c0d-f69f-4ae6-af95-feada39f8ccb",
   "metadata": {
    "tags": []
   },
   "outputs": [
    {
     "name": "stderr",
     "output_type": "stream",
     "text": [
      "/srv/conda/envs/notebook/lib/python3.10/site-packages/nilearn/input_data/__init__.py:23: FutureWarning: The import path 'nilearn.input_data' is deprecated in version 0.9. Importing from 'nilearn.input_data' will be possible at least until release 0.13.0. Please import from 'nilearn.maskers' instead.\n",
      "  warnings.warn(message, FutureWarning)\n"
     ]
    }
   ],
   "source": [
    "from pathlib import Path\n",
    "from cloudpathlib import S3Path, S3Client\n",
    "import nibabel as nib \n",
    "import neuropythy as ny\n",
    "from nilearn import datasets, input_data, connectome\n",
    "import numpy as np\n",
    "\n",
    "# Make sure that we have a cache path:\n",
    "cache_path = Path('/tmp/cache')\n",
    "if not cache_path.exists():\n",
    "    cache_path.mkdir()\n",
    "\n",
    "hcp_base_path = S3Path(\n",
    "    's3://hcp-openaccess/HCP_1200/',\n",
    "    client=S3Client(\n",
    "        local_cache_dir=cache_path,\n",
    "        profile_name='hcp'))"
   ]
  },
  {
   "cell_type": "code",
   "execution_count": 4,
   "id": "0fa20eed-d160-499f-bd44-0ba9a3f52be1",
   "metadata": {
    "tags": []
   },
   "outputs": [
    {
     "data": {
      "text/plain": [
       "[S3Path('s3://hcp-openaccess/HCP_1200/100206'),\n",
       " S3Path('s3://hcp-openaccess/HCP_1200/100307'),\n",
       " S3Path('s3://hcp-openaccess/HCP_1200/100408'),\n",
       " S3Path('s3://hcp-openaccess/HCP_1200/100610'),\n",
       " S3Path('s3://hcp-openaccess/HCP_1200/101006'),\n",
       " S3Path('s3://hcp-openaccess/HCP_1200/101107'),\n",
       " S3Path('s3://hcp-openaccess/HCP_1200/101309'),\n",
       " S3Path('s3://hcp-openaccess/HCP_1200/101410'),\n",
       " S3Path('s3://hcp-openaccess/HCP_1200/101915'),\n",
       " S3Path('s3://hcp-openaccess/HCP_1200/102008')]"
      ]
     },
     "execution_count": 4,
     "metadata": {},
     "output_type": "execute_result"
    }
   ],
   "source": [
    "hcp_subdirs = list(hcp_base_path.iterdir())\n",
    "# There are about 1200 of these, so we won't show them all, just the first 10:\n",
    "hcp_subdirs[:10]\n"
   ]
  },
  {
   "cell_type": "code",
   "execution_count": 2,
   "id": "80d4bde6-0037-470d-9829-6043a509f2c7",
   "metadata": {
    "tags": []
   },
   "outputs": [
    {
     "name": "stderr",
     "output_type": "stream",
     "text": [
      "pixdim[1,2,3] should be non-zero; setting 0 dims to 1\n"
     ]
    },
    {
     "data": {
      "text/plain": [
       "<nibabel.cifti2.cifti2.Cifti2Image at 0x7fa0f31be3b0>"
      ]
     },
     "execution_count": 2,
     "metadata": {},
     "output_type": "execute_result"
    }
   ],
   "source": [
    "# Load preprocessed fMRI data\n",
    "sub115825 = 'shared/HCP/115825/MNINonLinear/Results/rfMRI_REST1_7T_PA/rfMRI_REST1_7T_PA_Atlas_1.6mm_hp2000_clean.dtseries.nii'\n",
    "subj_bold = ny.load(sub115825)\n",
    "subj_bold"
   ]
  },
  {
   "cell_type": "code",
   "execution_count": 33,
   "id": "7796d1f3-27e1-41c1-bf10-7397f1b3b086",
   "metadata": {
    "tags": []
   },
   "outputs": [],
   "source": [
    "(lh_data_bold, rh_data_bold, subcortex_data_bold) = ny.hcp.cifti_split(subj_bold)"
   ]
  },
  {
   "cell_type": "code",
   "execution_count": 4,
   "id": "55db48de-0309-42af-9a46-9e3375d8861e",
   "metadata": {
    "tags": []
   },
   "outputs": [
    {
     "data": {
      "text/plain": [
       "(900, 59292)"
      ]
     },
     "execution_count": 4,
     "metadata": {},
     "output_type": "execute_result"
    }
   ],
   "source": [
    "# BOLD signal for every vertex\n",
    "lh_data_bold.shape"
   ]
  },
  {
   "cell_type": "code",
   "execution_count": 5,
   "id": "938d9cd9-d41d-4c9f-88c4-a4436b659b38",
   "metadata": {
    "tags": []
   },
   "outputs": [
    {
     "data": {
      "text/plain": [
       "(900, 59292)"
      ]
     },
     "execution_count": 5,
     "metadata": {},
     "output_type": "execute_result"
    }
   ],
   "source": [
    "rh_data_bold.shape"
   ]
  },
  {
   "cell_type": "code",
   "execution_count": 65,
   "id": "e316b944-a2aa-40be-9a86-239c7e0ec6d0",
   "metadata": {
    "tags": []
   },
   "outputs": [
    {
     "data": {
      "text/plain": [
       "(900, 62053)"
      ]
     },
     "execution_count": 65,
     "metadata": {},
     "output_type": "execute_result"
    }
   ],
   "source": [
    "subcortex_data_bold.shape"
   ]
  },
  {
   "cell_type": "code",
   "execution_count": 6,
   "id": "00af0c6a-0048-487d-9d3c-25e75f00ebbb",
   "metadata": {
    "tags": []
   },
   "outputs": [
    {
     "name": "stderr",
     "output_type": "stream",
     "text": [
      "pixdim[1,2,3] should be non-zero; setting 0 dims to 1\n"
     ]
    }
   ],
   "source": [
    "sub115825_labels = 'shared/HCP/115825/MNINonLinear/fsaverage_LR59k/115825.aparc.59k_fs_LR.dlabel.nii'\n",
    "subj_labels = nib.load(sub115825_labels)"
   ]
  },
  {
   "cell_type": "code",
   "execution_count": 32,
   "id": "872cf504-ce4d-40d8-a624-420a0b72e5e2",
   "metadata": {
    "tags": []
   },
   "outputs": [],
   "source": [
    "(lh_data_labels, rh_data_labels, subcortex_data_labels) = ny.hcp.cifti_split(subj_labels)"
   ]
  },
  {
   "cell_type": "code",
   "execution_count": 10,
   "id": "d869f976-05b3-4452-9542-26121014c591",
   "metadata": {
    "tags": []
   },
   "outputs": [
    {
     "data": {
      "text/plain": [
       "(1, 59292)"
      ]
     },
     "execution_count": 10,
     "metadata": {},
     "output_type": "execute_result"
    }
   ],
   "source": [
    "# label ID for every vertex\n",
    "lh_data_labels.shape"
   ]
  },
  {
   "cell_type": "code",
   "execution_count": 11,
   "id": "88feca73-a29c-4240-98c2-dfdaa6713abb",
   "metadata": {},
   "outputs": [
    {
     "data": {
      "text/plain": [
       "(1, 59292)"
      ]
     },
     "execution_count": 11,
     "metadata": {},
     "output_type": "execute_result"
    }
   ],
   "source": [
    "rh_data_labels.shape"
   ]
  },
  {
   "cell_type": "code",
   "execution_count": null,
   "id": "5b7ccb1c-4d04-4f85-921b-b4cb0427ceb4",
   "metadata": {},
   "outputs": [],
   "source": [
    "# go through every unique label \n",
    "# for every label find the vertices with that label\n",
    "# average BOLD signal for all the vertices\n",
    "## ==> smaller matrix, 900 x number of labels (about 50 maybe)\n"
   ]
  },
  {
   "cell_type": "code",
   "execution_count": 21,
   "id": "fbb7f969-0e15-473e-a29c-c489307ecdaf",
   "metadata": {
    "tags": []
   },
   "outputs": [
    {
     "data": {
      "text/plain": [
       "(901, 59292)"
      ]
     },
     "execution_count": 21,
     "metadata": {},
     "output_type": "execute_result"
    }
   ],
   "source": [
    "# merge BOLD signals and labels together\n",
    "lh_data = np.vstack((lh_data_bold, lh_data_labels))\n",
    "lh_data.shape"
   ]
  },
  {
   "cell_type": "code",
   "execution_count": 53,
   "id": "aa76c2d2-4029-464a-9678-c920a83324c8",
   "metadata": {
    "tags": []
   },
   "outputs": [
    {
     "data": {
      "text/plain": [
       "array([ 0.,  1.,  2.,  3.,  5.,  6.,  7.,  8.,  9., 10., 11., 12., 13.,\n",
       "       14., 15., 16., 17., 18., 19., 20., 21., 22., 23., 24., 25., 26.,\n",
       "       27., 28., 29., 30., 31., 32., 33., 34., 35., nan])"
      ]
     },
     "execution_count": 53,
     "metadata": {},
     "output_type": "execute_result"
    }
   ],
   "source": [
    "# unique lh label\n",
    "unique_lh = np.unique(lh_data_labels)\n",
    "unique_lh"
   ]
  },
  {
   "cell_type": "code",
   "execution_count": null,
   "id": "ca360ebf-8f42-470b-be5f-7114292cd8c4",
   "metadata": {},
   "outputs": [],
   "source": [
    "avg_lh_bold_label = []\n",
    "\n",
    "## loop through unique labels\n",
    "for label in unique_lh:\n",
    "    label_vertices = np.where(lh_data_labels == label)[0] # identify the vertices with label\n",
    "    #label_bold = lh_data_bold[label_vertices] # extract BOLD for the vertices\n",
    "    #avg_lh_bold = np.mean(label_bold, axis=0) # average BOLD \n",
    "    #avg_lh_bold_label.append(avg_lh_bold) \n",
    "    \n",
    "#avg_lh_bold_label = np.array(avg_lh_bold_label) # each row corresponds to the avg BOLD for each unique label \n",
    "\n",
    "\n",
    "## for label in unique-lh\n",
    "    ## group 59k vertices by unique label (36 for each h)\n",
    "    ## avg BOLD signal for each group within each time point\n",
    "    ## avg BOLD signal for each group across all time points\n",
    "    ## Corr matrix (900x36x36)"
   ]
  },
  {
   "cell_type": "code",
   "execution_count": 50,
   "id": "98892b4f-ddf7-4c5b-b3bd-23da75e3607f",
   "metadata": {
    "tags": []
   },
   "outputs": [
    {
     "data": {
      "text/plain": [
       "(901, 59292)"
      ]
     },
     "execution_count": 50,
     "metadata": {},
     "output_type": "execute_result"
    }
   ],
   "source": [
    "rh_data = np.vstack((rh_data_bold, rh_data_labels))\n",
    "rh_data.shape"
   ]
  },
  {
   "cell_type": "code",
   "execution_count": 52,
   "id": "7dc5f05d-2cf2-4149-abe9-8126fe87ef50",
   "metadata": {
    "tags": []
   },
   "outputs": [
    {
     "data": {
      "text/plain": [
       "array([ 0., 36., 37., 38., 40., 41., 42., 43., 44., 45., 46., 47., 48.,\n",
       "       49., 50., 51., 52., 53., 54., 55., 56., 57., 58., 59., 60., 61.,\n",
       "       62., 63., 64., 65., 66., 67., 68., 69., 70., nan])"
      ]
     },
     "execution_count": 52,
     "metadata": {},
     "output_type": "execute_result"
    }
   ],
   "source": [
    "unique_rh = np.unique(rh_data_labels)\n",
    "unique_rh"
   ]
  },
  {
   "cell_type": "code",
   "execution_count": 45,
   "id": "8c382380-db61-425d-99b3-14242c7a5ee3",
   "metadata": {
    "tags": []
   },
   "outputs": [
    {
     "data": {
      "text/plain": [
       "900"
      ]
     },
     "execution_count": 45,
     "metadata": {},
     "output_type": "execute_result"
    }
   ],
   "source": [
    "# merge labels together\n",
    "all_data_labels = np.hstack((lh_data_labels, rh_data_labels))\n",
    "all_data_labels\n"
   ]
  },
  {
   "cell_type": "code",
   "execution_count": 30,
   "id": "40c37ea8-b6cd-4a69-8645-5f558ab05944",
   "metadata": {
    "tags": []
   },
   "outputs": [
    {
     "data": {
      "text/plain": [
       "array([ 0.,  1.,  2.,  3.,  5.,  6.,  7.,  8.,  9., 10., 11., 12., 13.,\n",
       "       14., 15., 16., 17., 18., 19., 20., 21., 22., 23., 24., 25., 26.,\n",
       "       27., 28., 29., 30., 31., 32., 33., 34., 35., 36., 37., 38., 40.,\n",
       "       41., 42., 43., 44., 45., 46., 47., 48., 49., 50., 51., 52., 53.,\n",
       "       54., 55., 56., 57., 58., 59., 60., 61., 62., 63., 64., 65., 66.,\n",
       "       67., 68., 69., 70., nan])"
      ]
     },
     "execution_count": 30,
     "metadata": {},
     "output_type": "execute_result"
    }
   ],
   "source": [
    "# get unique labels\n",
    "unique_labels = np.unique(all_data_labels)\n",
    "unique_labels"
   ]
  },
  {
   "cell_type": "code",
   "execution_count": 48,
   "id": "1b84e719-1929-42c1-aadc-8925ac95a0cf",
   "metadata": {
    "tags": []
   },
   "outputs": [],
   "source": [
    "FC_matrix = np.zeros((len(all_data_bold),len(unique_labels)))\n",
    "average_bold_list = []\n",
    "\n",
    "for label in unique_labels:\n",
    "    # Find vertices with the current label\n",
    "    label_vertices = np.where(all_data_labels == label)[0]\n",
    "    \n",
    "    # Get the BOLD signal for vertices with the current label\n",
    "    label_bold = all_data_bold[label_vertices]\n",
    "    \n",
    "    # Calculate the average BOLD signal along the first axis (vertices)\n",
    "    average_bold = np.mean(label_bold, axis=0)\n",
    "    \n",
    "    average_bold_list.append(average_bold)\n",
    "    \n",
    "FC_matrix = np.array(average_bold_list).T"
   ]
  },
  {
   "cell_type": "code",
   "execution_count": 49,
   "id": "e838b063-40e5-4edb-8657-e2ef59823f41",
   "metadata": {
    "tags": []
   },
   "outputs": [
    {
     "data": {
      "text/plain": [
       "(118584, 70)"
      ]
     },
     "execution_count": 49,
     "metadata": {},
     "output_type": "execute_result"
    }
   ],
   "source": [
    "FC_matrix.shape"
   ]
  },
  {
   "cell_type": "code",
   "execution_count": 28,
   "id": "e1071ee9-8d01-4f4c-a14f-98c93a028f60",
   "metadata": {
    "tags": []
   },
   "outputs": [
    {
     "ename": "AttributeError",
     "evalue": "module 'numpy' has no attribute 'which'",
     "output_type": "error",
     "traceback": [
      "\u001b[0;31m---------------------------------------------------------------------------\u001b[0m",
      "\u001b[0;31mAttributeError\u001b[0m                            Traceback (most recent call last)",
      "Cell \u001b[0;32mIn[28], line 5\u001b[0m\n\u001b[1;32m      3\u001b[0m \u001b[38;5;66;03m## loop through unique labels\u001b[39;00m\n\u001b[1;32m      4\u001b[0m \u001b[38;5;28;01mfor\u001b[39;00m label \u001b[38;5;129;01min\u001b[39;00m unique_lh:\n\u001b[0;32m----> 5\u001b[0m     label_vertices \u001b[38;5;241m=\u001b[39m \u001b[43mnp\u001b[49m\u001b[38;5;241;43m.\u001b[39;49m\u001b[43mwhich\u001b[49m(lh_data_labels \u001b[38;5;241m==\u001b[39m label)[\u001b[38;5;241m0\u001b[39m] \u001b[38;5;66;03m# identify the vertices with label\u001b[39;00m\n\u001b[1;32m      6\u001b[0m     \u001b[38;5;66;03m#label_bold = lh_data_bold[label_vertices] # extract BOLD for the vertices\u001b[39;00m\n\u001b[1;32m      7\u001b[0m     \u001b[38;5;66;03m#avg_lh_bold = np.mean(label_bold, axis=0) # average BOLD \u001b[39;00m\n\u001b[1;32m      8\u001b[0m     \u001b[38;5;66;03m#avg_lh_bold_label.append(avg_lh_bold) \u001b[39;00m\n\u001b[1;32m     10\u001b[0m avg_lh_bold_label \u001b[38;5;241m=\u001b[39m np\u001b[38;5;241m.\u001b[39marray(avg_lh_bold_label) \u001b[38;5;66;03m# each row corresponds to the avg BOLD for each unique label \u001b[39;00m\n",
      "File \u001b[0;32m/srv/conda/envs/notebook/lib/python3.10/site-packages/numpy/__init__.py:320\u001b[0m, in \u001b[0;36m__getattr__\u001b[0;34m(attr)\u001b[0m\n\u001b[1;32m    317\u001b[0m     \u001b[38;5;28;01mfrom\u001b[39;00m \u001b[38;5;21;01m.\u001b[39;00m\u001b[38;5;21;01mtesting\u001b[39;00m \u001b[38;5;28;01mimport\u001b[39;00m Tester\n\u001b[1;32m    318\u001b[0m     \u001b[38;5;28;01mreturn\u001b[39;00m Tester\n\u001b[0;32m--> 320\u001b[0m \u001b[38;5;28;01mraise\u001b[39;00m \u001b[38;5;167;01mAttributeError\u001b[39;00m(\u001b[38;5;124m\"\u001b[39m\u001b[38;5;124mmodule \u001b[39m\u001b[38;5;132;01m{!r}\u001b[39;00m\u001b[38;5;124m has no attribute \u001b[39m\u001b[38;5;124m\"\u001b[39m\n\u001b[1;32m    321\u001b[0m                      \u001b[38;5;124m\"\u001b[39m\u001b[38;5;132;01m{!r}\u001b[39;00m\u001b[38;5;124m\"\u001b[39m\u001b[38;5;241m.\u001b[39mformat(\u001b[38;5;18m__name__\u001b[39m, attr))\n",
      "\u001b[0;31mAttributeError\u001b[0m: module 'numpy' has no attribute 'which'"
     ]
    }
   ],
   "source": []
  },
  {
   "cell_type": "code",
   "execution_count": 27,
   "id": "f6096aeb-98f2-4649-beb3-5515e5fe0358",
   "metadata": {
    "tags": []
   },
   "outputs": [
    {
     "data": {
      "text/plain": [
       "(0,)"
      ]
     },
     "execution_count": 27,
     "metadata": {},
     "output_type": "execute_result"
    }
   ],
   "source": [
    "label_vertices.shape"
   ]
  },
  {
   "cell_type": "code",
   "execution_count": 14,
   "id": "54396b94-24d9-4beb-ab46-ade0f66d3cea",
   "metadata": {
    "tags": []
   },
   "outputs": [
    {
     "name": "stderr",
     "output_type": "stream",
     "text": [
      "/srv/conda/envs/notebook/lib/python3.10/site-packages/numpy/core/fromnumeric.py:3464: RuntimeWarning: Mean of empty slice.\n",
      "  return _methods._mean(a, axis=axis, dtype=dtype,\n",
      "/srv/conda/envs/notebook/lib/python3.10/site-packages/numpy/core/_methods.py:184: RuntimeWarning: invalid value encountered in divide\n",
      "  ret = um.true_divide(\n"
     ]
    }
   ],
   "source": [
    "avg_bold_label = []\n",
    "\n",
    "## loop through unique labels\n",
    "for label in unique_labels:\n",
    "    label_vertices = np.where(all_data_labels == label)[0] # identify the vertices with label\n",
    "    label_bold = all_data_bold[label_vertices] # extract BOLD for the vertices\n",
    "    avg_bold = np.mean(label_bold, axis=0) # average BOLD \n",
    "    avg_bold_label.append(avg_bold) \n",
    "    \n",
    "avg_bold_label = np.array(avg_bold_label) # each row corresponds to the avg BOLD for each unique label "
   ]
  },
  {
   "cell_type": "code",
   "execution_count": 23,
   "id": "2ebb5fd7-0f52-49d2-9381-e5c7f6246029",
   "metadata": {
    "tags": []
   },
   "outputs": [
    {
     "data": {
      "text/plain": [
       "array([[11089.08984375, 12419.76953125, 13332.8515625 , ...,\n",
       "        12756.04003906, 11879.54101562, 12271.46972656],\n",
       "       [11089.08984375, 12419.76953125, 13332.8515625 , ...,\n",
       "        12756.04003906, 11879.54101562, 12271.46972656],\n",
       "       [11089.08984375, 12419.76953125, 13332.8515625 , ...,\n",
       "        12756.04003906, 11879.54101562, 12271.46972656],\n",
       "       ...,\n",
       "       [11089.08984375, 12419.76953125, 13332.8515625 , ...,\n",
       "        12756.04003906, 11879.54101562, 12271.46972656],\n",
       "       [11089.08984375, 12419.76953125, 13332.8515625 , ...,\n",
       "        12756.04003906, 11879.54101562, 12271.46972656],\n",
       "       [           nan,            nan,            nan, ...,\n",
       "                   nan,            nan,            nan]])"
      ]
     },
     "execution_count": 23,
     "metadata": {},
     "output_type": "execute_result"
    }
   ],
   "source": [
    "avg_bold_label"
   ]
  },
  {
   "cell_type": "code",
   "execution_count": null,
   "id": "27f4aabd-11c7-4d7d-83a4-21f646531ca2",
   "metadata": {},
   "outputs": [],
   "source": []
  },
  {
   "cell_type": "code",
   "execution_count": null,
   "id": "9292bcf9-fd0b-48f7-93cc-7e9803148f35",
   "metadata": {},
   "outputs": [],
   "source": []
  },
  {
   "cell_type": "code",
   "execution_count": null,
   "id": "6e6ed6e7-ab4f-4c80-83d4-76bae428f8d2",
   "metadata": {},
   "outputs": [],
   "source": []
  },
  {
   "cell_type": "code",
   "execution_count": null,
   "id": "69617c5d-4d74-4889-ad23-f9a2b0cb1da9",
   "metadata": {},
   "outputs": [],
   "source": [
    "## Ignore from here (for now)"
   ]
  },
  {
   "cell_type": "code",
   "execution_count": 21,
   "id": "b2cdfc5b-5d36-4c44-97bd-2b99dd3bd74e",
   "metadata": {
    "tags": []
   },
   "outputs": [],
   "source": [
    "# Choose Atlas\n",
    "atlas = datasets.fetch_atlas_harvard_oxford('cort-maxprob-thr25-2mm')\n",
    "# atlas = sub115825.fetch_atlas_harvard_oxford('cort-maxprob-thr25-2mm')"
   ]
  },
  {
   "cell_type": "code",
   "execution_count": 22,
   "id": "75b2ec70-9dbc-4e15-bcc8-dd4501581aa6",
   "metadata": {
    "tags": []
   },
   "outputs": [],
   "source": [
    "# Create Masking Object\n",
    "masker = input_data.NiftiLabelsMasker(labels_img=atlas.maps, standardize=True)"
   ]
  },
  {
   "cell_type": "code",
   "execution_count": 23,
   "id": "ad1c14dc-a7cc-4ddd-94f5-fcf05ed78117",
   "metadata": {
    "tags": []
   },
   "outputs": [
    {
     "name": "stderr",
     "output_type": "stream",
     "text": [
      "/srv/conda/envs/notebook/lib/python3.10/site-packages/joblib/memory.py:353: FutureWarning: The default strategy for standardize is currently 'zscore' which incorrectly uses population std to calculate sample zscores. The new strategy 'zscore_sample' corrects this behavior by using the sample std. In release 0.13, the default strategy will be replaced by the new strategy and the 'zscore' option will be removed. Please use 'zscore_sample' instead.\n",
      "  return self.func(*args, **kwargs)\n"
     ]
    }
   ],
   "source": [
    "# Extract time-series for each ROIs\n",
    "time_series = masker.fit_transform(sub115825)"
   ]
  },
  {
   "cell_type": "code",
   "execution_count": 25,
   "id": "79b3e3f4-e008-4daa-927a-dc5503ad37b4",
   "metadata": {
    "tags": []
   },
   "outputs": [
    {
     "name": "stdout",
     "output_type": "stream",
     "text": [
      "[[1.         0.8119864  0.9464104  ... 0.7323204  0.611148   0.5107898 ]\n",
      " [0.8119864  1.         0.8052994  ... 0.8699405  0.6637082  0.56077397]\n",
      " [0.9464104  0.8052994  1.         ... 0.7288159  0.63289195 0.47462818]\n",
      " ...\n",
      " [0.7323204  0.8699405  0.7288159  ... 1.         0.68419755 0.48319957]\n",
      " [0.611148   0.6637082  0.63289195 ... 0.68419755 1.         0.6632808 ]\n",
      " [0.5107898  0.56077397 0.47462818 ... 0.48319957 0.6632808  1.        ]]\n"
     ]
    },
    {
     "name": "stderr",
     "output_type": "stream",
     "text": [
      "/srv/conda/envs/notebook/lib/python3.10/site-packages/nilearn/connectome/connectivity_matrices.py:495: FutureWarning: The default strategy for standardize is currently 'zscore' which incorrectly uses population std to calculate sample zscores. The new strategy 'zscore_sample' corrects this behavior by using the sample std. In release 0.13, the default strategy will be replaced by the new strategy and the 'zscore' option will be removed. Please use 'zscore_sample' instead.\n",
      "  covariances_std = [\n"
     ]
    }
   ],
   "source": [
    "# Correlation FC matrix\n",
    "correlation_matrix = connectome.ConnectivityMeasure(kind='correlation').fit_transform([time_series])[0]\n",
    "print(correlation_matrix)"
   ]
  },
  {
   "cell_type": "code",
   "execution_count": 10,
   "id": "7456bd67-b733-4b48-b746-a2e942a8441e",
   "metadata": {
    "tags": []
   },
   "outputs": [],
   "source": [
    "sub100610_freesurfer_path = hcp_base_path / '100610' / 'T1w' / '100610'\n"
   ]
  },
  {
   "cell_type": "code",
   "execution_count": 11,
   "id": "f24b12b6-f071-4b47-a3ef-b8a9147aaf1e",
   "metadata": {
    "tags": []
   },
   "outputs": [],
   "source": [
    "# If we want to load one of these files into nibabel, we can convert it\n",
    "# into a filesystem path (cloudpaths cannot just be passed to nibabel).\n",
    "\n",
    "import nibabel as nib\n",
    "\n",
    "brain_img_path = sub100610_freesurfer_path / 'mri' / 'brain.mgz'\n",
    "brain_img = nib.load(brain_img_path.fspath)"
   ]
  },
  {
   "cell_type": "code",
   "execution_count": 14,
   "id": "23be2b2d-8e12-4331-9ebc-59bee4386c0e",
   "metadata": {
    "tags": []
   },
   "outputs": [
    {
     "ename": "AttributeError",
     "evalue": "'S3Path' object has no attribute 'fetch_atlas_msdl'",
     "output_type": "error",
     "traceback": [
      "\u001b[0;31m---------------------------------------------------------------------------\u001b[0m",
      "\u001b[0;31mAttributeError\u001b[0m                            Traceback (most recent call last)",
      "Cell \u001b[0;32mIn[14], line 5\u001b[0m\n\u001b[1;32m      1\u001b[0m \u001b[38;5;66;03m# Selecting ROIs using masks\u001b[39;00m\n\u001b[1;32m      3\u001b[0m \u001b[38;5;28;01mimport\u001b[39;00m \u001b[38;5;21;01mnumpy\u001b[39;00m \u001b[38;5;28;01mas\u001b[39;00m \u001b[38;5;21;01mnp\u001b[39;00m\n\u001b[0;32m----> 5\u001b[0m msdl_atlas \u001b[38;5;241m=\u001b[39m \u001b[43mhcp_base_path\u001b[49m\u001b[38;5;241;43m.\u001b[39;49m\u001b[43mfetch_atlas_msdl\u001b[49m()\n\u001b[1;32m      7\u001b[0m msdl_coords \u001b[38;5;241m=\u001b[39m msdl_atlas\u001b[38;5;241m.\u001b[39mregion_coords\n\u001b[1;32m      8\u001b[0m n_regions \u001b[38;5;241m=\u001b[39m \u001b[38;5;28mlen\u001b[39m(msdl_coords)\n",
      "\u001b[0;31mAttributeError\u001b[0m: 'S3Path' object has no attribute 'fetch_atlas_msdl'"
     ]
    }
   ],
   "source": [
    "# Selecting ROIs using masks\n",
    "\n",
    "import numpy as np\n",
    "\n",
    "msdl_atlas = hcp_base_path.fetch_atlas_msdl()\n",
    "\n",
    "msdl_coords = msdl_atlas.region_coords\n",
    "n_regions = len(msdl_coords)\n",
    "\n",
    "print(f'MSDL has {n_regions} ROIs, part of the following networks :\\n{np.unique(msdl_atlas.networks)}.')"
   ]
  }
 ],
 "metadata": {
  "kernelspec": {
   "display_name": "Python 3 (ipykernel)",
   "language": "python",
   "name": "python3"
  },
  "language_info": {
   "codemirror_mode": {
    "name": "ipython",
    "version": 3
   },
   "file_extension": ".py",
   "mimetype": "text/x-python",
   "name": "python",
   "nbconvert_exporter": "python",
   "pygments_lexer": "ipython3",
   "version": "3.10.11"
  }
 },
 "nbformat": 4,
 "nbformat_minor": 5
}
