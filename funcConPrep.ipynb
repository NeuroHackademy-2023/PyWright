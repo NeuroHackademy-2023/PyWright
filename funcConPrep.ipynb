{
 "cells": [
  {
   "cell_type": "code",
   "execution_count": 2,
   "metadata": {},
   "outputs": [],
   "source": [
    "import os\n",
    "import glob\n",
    "import nibabel as nib\n",
    "import numpy as np\n",
    "\n",
    "\n",
    "# Load atlas registered to the BOLD file\n",
    "atlas_file = nib.load(\"HCP-MMP.nii.gz\")\n",
    "atlas_data = atlas_file.get_fdata()\n",
    "\n",
    "# Specify the number of brain areas\n",
    "brain_par = 360\n",
    "\n",
    "# Directory where subject folders are located\n",
    "subjects_directory = \"/Users/neuro-240/Documents/Subjects\"\n",
    "\n",
    "\n",
    "# Call the function to process subjects' data\n",
    "average_BOLD_signal.average_BOLD_signal(subjects_directory, atlas_data, brain_par)\n"
   ]
  },
  {
   "cell_type": "markdown",
   "metadata": {},
   "source": []
  }
 ],
 "metadata": {
  "kernelspec": {
   "display_name": "Python 3.8.9 64-bit",
   "language": "python",
   "name": "python3"
  },
  "language_info": {
   "codemirror_mode": {
    "name": "ipython",
    "version": 3
   },
   "file_extension": ".py",
   "mimetype": "text/x-python",
   "name": "python",
   "nbconvert_exporter": "python",
   "pygments_lexer": "ipython3",
   "version": "3.9.7"
  },
  "orig_nbformat": 4,
  "vscode": {
   "interpreter": {
    "hash": "31f2aee4e71d21fbe5cf8b01ff0e069b9275f58929596ceb00d14d90e3e16cd6"
   }
  }
 },
 "nbformat": 4,
 "nbformat_minor": 2
}
