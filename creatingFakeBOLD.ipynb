{
 "cells": [
  {
   "cell_type": "code",
   "execution_count": null,
   "metadata": {},
   "outputs": [],
   "source": [
    "##Create fake BOLD signal file\n",
    "\n",
    "import os\n",
    "import numpy as np\n",
    "import nibabel as nib\n",
    "\n",
    "# Atlas dimensions\n",
    "x_dim = 91\n",
    "y_dim = 109\n",
    "z_dim = 91\n",
    "\n",
    "# Number of time points\n",
    "t_dim = 200\n",
    "\n",
    "# Number of brain areas in the atlas\n",
    "brain_par = 360\n",
    "\n",
    "# Create the \"Subjects\" directory if it doesn't exist\n",
    "subjects_directory = \"Subjects\"\n",
    "if not os.path.exists(subjects_directory):\n",
    "    os.makedirs(subjects_directory)\n",
    "\n",
    "# Generate and save 20 different fake BOLD signal files, one for each subject\n",
    "num_subjects = 20\n",
    "for subject_idx in range(1, num_subjects + 1):\n",
    "    # Generate random BOLD signal data\n",
    "    random_bold_data = np.random.randn(x_dim, y_dim, z_dim, t_dim)\n",
    "    \n",
    "    # Create a NIfTI image header\n",
    "    header = nib.Nifti1Header()\n",
    "    header.set_data_dtype(np.float32)\n",
    "    \n",
    "    # Save BOLD signal data as a NIfTI file\n",
    "    bold_nifti = nib.Nifti1Image(random_bold_data, np.eye(4), header=header)\n",
    "    \n",
    "    # Save the NIfTI file without compression in the \"Subjects\" folder\n",
    "    file_name = f\"fake_BOLD.nii\"\n",
    "    subject_directory = os.path.join(subjects_directory, f\"Subject_{subject_idx}\")\n",
    "    if not os.path.exists(subject_directory):\n",
    "        os.makedirs(subject_directory)\n",
    "    file_path = os.path.join(subject_directory, file_name)\n",
    "    nib.save(bold_nifti, file_path)\n",
    "    print(f\"Saved {file_path}\")\n",
    "\n"
   ]
  }
 ],
 "metadata": {
  "language_info": {
   "name": "python"
  },
  "orig_nbformat": 4
 },
 "nbformat": 4,
 "nbformat_minor": 2
}
