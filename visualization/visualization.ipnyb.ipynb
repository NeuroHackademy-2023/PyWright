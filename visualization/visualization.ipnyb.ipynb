{
 "cells": [
  {
   "cell_type": "code",
   "execution_count": 82,
   "id": "145a221e-9132-42aa-87f6-d181b4d0b6f4",
   "metadata": {
    "tags": []
   },
   "outputs": [],
   "source": [
    "from pathlib import Path\n",
    "from cloudpathlib import S3Path, S3Client\n",
    "import nibabel as nib \n",
    "import neuropythy as ny\n",
    "from nilearn import datasets, input_data, connectome\n",
    "import numpy as np\n",
    "from scipy.stats import pearsonr\n",
    "import pandas as pd\n",
    "\n",
    "# Make sure that we have a cache path:\n",
    "cache_path = Path('/tmp/cache')\n",
    "if not cache_path.exists():\n",
    "    cache_path.mkdir()\n",
    "\n",
    "hcp_base_path = S3Path(\n",
    "    's3://hcp-openaccess/HCP_1200/',\n",
    "    client=S3Client(\n",
    "        local_cache_dir=cache_path,\n",
    "        profile_name='hcp'))"
   ]
  },
  {
   "cell_type": "code",
   "execution_count": 83,
   "id": "abd6b9d6-6815-4e7e-9e16-4095773a4c8c",
   "metadata": {
    "tags": []
   },
   "outputs": [
    {
     "data": {
      "text/plain": [
       "[S3Path('s3://hcp-openaccess/HCP_1200/100206'),\n",
       " S3Path('s3://hcp-openaccess/HCP_1200/100307'),\n",
       " S3Path('s3://hcp-openaccess/HCP_1200/100408'),\n",
       " S3Path('s3://hcp-openaccess/HCP_1200/100610'),\n",
       " S3Path('s3://hcp-openaccess/HCP_1200/101006'),\n",
       " S3Path('s3://hcp-openaccess/HCP_1200/101107'),\n",
       " S3Path('s3://hcp-openaccess/HCP_1200/101309'),\n",
       " S3Path('s3://hcp-openaccess/HCP_1200/101410'),\n",
       " S3Path('s3://hcp-openaccess/HCP_1200/101915'),\n",
       " S3Path('s3://hcp-openaccess/HCP_1200/102008')]"
      ]
     },
     "execution_count": 83,
     "metadata": {},
     "output_type": "execute_result"
    }
   ],
   "source": [
    "hcp_subdirs = list(hcp_base_path.iterdir())\n",
    "# There are about 1200 of these, so we won't show them all, just the first 10:\n",
    "hcp_subdirs[:10]"
   ]
  },
  {
   "cell_type": "code",
   "execution_count": 84,
   "id": "c99a5917-8c93-488b-8483-87ee93ad4eb1",
   "metadata": {
    "tags": []
   },
   "outputs": [
    {
     "name": "stderr",
     "output_type": "stream",
     "text": [
      "pixdim[1,2,3] should be non-zero; setting 0 dims to 1\n",
      "WARNING:nibabel.global:pixdim[1,2,3] should be non-zero; setting 0 dims to 1\n"
     ]
    },
    {
     "data": {
      "text/plain": [
       "(900, 170494)"
      ]
     },
     "execution_count": 84,
     "metadata": {},
     "output_type": "execute_result"
    }
   ],
   "source": [
    "# Load preprocessed fMRI data\n",
    "sub115825 = 'shared/HCP/115825/MNINonLinear/Results/rfMRI_REST1_7T_PA/rfMRI_REST1_7T_PA_Atlas_1.6mm_hp2000_clean.dtseries.nii'\n",
    "subj_bold = ny.load(sub115825)\n",
    "subj_bold.get_fdata().shape"
   ]
  },
  {
   "cell_type": "code",
   "execution_count": 85,
   "id": "d11da21a-9729-4b9d-8efd-6292eccf40a9",
   "metadata": {
    "tags": []
   },
   "outputs": [],
   "source": [
    "# path to MNI space FS atlas\n",
    "# mni_atlas_fname = 'shared/HCP/115825/MNINonLinear/aparc+aseg.nii.gz'\n",
    "# mni_atlas = ny.load(mni_atlas_fname)\n",
    "# np.unique(mni_atlas.get_fdata())"
   ]
  },
  {
   "cell_type": "code",
   "execution_count": 86,
   "id": "035dc0f8-be40-4587-9f55-9028d15a9338",
   "metadata": {
    "tags": []
   },
   "outputs": [],
   "source": [
    "(lh_data_bold, rh_data_bold, subcortex_data_bold) = ny.hcp.cifti_split(subj_bold)"
   ]
  },
  {
   "cell_type": "code",
   "execution_count": 87,
   "id": "2d28af30-e5bc-43ec-a1cc-8395a79f39d9",
   "metadata": {
    "tags": []
   },
   "outputs": [
    {
     "data": {
      "text/plain": [
       "(900, 59292)"
      ]
     },
     "execution_count": 87,
     "metadata": {},
     "output_type": "execute_result"
    }
   ],
   "source": [
    "# BOLD signal for every vertex\n",
    "lh_data_bold.shape"
   ]
  },
  {
   "cell_type": "code",
   "execution_count": 88,
   "id": "4dddd73b-0289-481c-b9e6-7452311dcd3d",
   "metadata": {
    "tags": []
   },
   "outputs": [
    {
     "data": {
      "text/plain": [
       "(900, 59292)"
      ]
     },
     "execution_count": 88,
     "metadata": {},
     "output_type": "execute_result"
    }
   ],
   "source": [
    "rh_data_bold.shape"
   ]
  },
  {
   "cell_type": "code",
   "execution_count": 89,
   "id": "16d07162-2221-49cd-a8a3-e3a494e14334",
   "metadata": {
    "tags": []
   },
   "outputs": [
    {
     "data": {
      "text/plain": [
       "(900, 62053)"
      ]
     },
     "execution_count": 89,
     "metadata": {},
     "output_type": "execute_result"
    }
   ],
   "source": [
    "subcortex_data_bold.shape"
   ]
  },
  {
   "cell_type": "code",
   "execution_count": 90,
   "id": "bc95e5cc-f0f7-490c-ba32-9fafcea5787c",
   "metadata": {
    "tags": []
   },
   "outputs": [
    {
     "name": "stderr",
     "output_type": "stream",
     "text": [
      "pixdim[1,2,3] should be non-zero; setting 0 dims to 1\n",
      "WARNING:nibabel.global:pixdim[1,2,3] should be non-zero; setting 0 dims to 1\n"
     ]
    },
    {
     "data": {
      "text/plain": [
       "array([ 0.,  1.,  2.,  3.,  5.,  6.,  7.,  8.,  9., 10., 11., 12., 13.,\n",
       "       14., 15., 16., 17., 18., 19., 20., 21., 22., 23., 24., 25., 26.,\n",
       "       27., 28., 29., 30., 31., 32., 33., 34., 35., 36., 37., 38., 40.,\n",
       "       41., 42., 43., 44., 45., 46., 47., 48., 49., 50., 51., 52., 53.,\n",
       "       54., 55., 56., 57., 58., 59., 60., 61., 62., 63., 64., 65., 66.,\n",
       "       67., 68., 69., 70.])"
      ]
     },
     "execution_count": 90,
     "metadata": {},
     "output_type": "execute_result"
    }
   ],
   "source": [
    "sub115825_labels = 'shared/HCP/115825/MNINonLinear/fsaverage_LR59k/115825.aparc.59k_fs_LR.dlabel.nii'\n",
    "subj_labels = nib.load(sub115825_labels)\n",
    "sub_labels = np.unique(subj_labels.get_fdata())\n",
    "sub_labels"
   ]
  },
  {
   "cell_type": "code",
   "execution_count": 91,
   "id": "dc2508f0-b51c-4b0f-a108-7609dd4c3b0e",
   "metadata": {
    "tags": []
   },
   "outputs": [
    {
     "data": {
      "text/plain": [
       "array([10., 22., 24., ..., 15., 15., 15.])"
      ]
     },
     "execution_count": 91,
     "metadata": {},
     "output_type": "execute_result"
    }
   ],
   "source": [
    "(lh_data_labels, rh_data_labels, subcortex_data_labels) = ny.hcp.cifti_split(subj_labels)\n",
    "lh_data_labels[0]"
   ]
  },
  {
   "cell_type": "code",
   "execution_count": 92,
   "id": "b8410fd1-027b-479e-8580-dd122bc33f37",
   "metadata": {
    "tags": []
   },
   "outputs": [],
   "source": [
    "subda = ny.hcp_subject(111312)"
   ]
  },
  {
   "cell_type": "code",
   "execution_count": 93,
   "id": "292d9a5f-8541-4446-a354-bb6472889f3e",
   "metadata": {
    "tags": []
   },
   "outputs": [],
   "source": [
    "roi_centers = {}\n",
    "\n",
    "mesh = subda.hemis['lh_LR59k'].registrations['fs_LR']\n",
    "for roi in np.unique(lh_data_labels[0]):\n",
    "    if np.isnan(roi):\n",
    "        continue\n",
    "    ii = lh_data_labels[0] == roi \n",
    "    roi_coords = mesh.coordinates[:, ii]\n",
    "    roi_center = np.mean(roi_coords, axis=1)\n",
    "    closest_vertex = mesh.vertex_hash.query(roi_center)\n",
    "    roi_centers[roi] = closest_vertex\n",
    "    "
   ]
  },
  {
   "cell_type": "code",
   "execution_count": 95,
   "id": "edb3b272-79b9-4ffc-9183-d024e1691ace",
   "metadata": {
    "tags": []
   },
   "outputs": [
    {
     "data": {
      "application/vnd.jupyter.widget-view+json": {
       "model_id": "aeaa5310d0fa4beebf17e3b202b19f70",
       "version_major": 2,
       "version_minor": 0
      },
      "text/plain": [
       "Container(figure=Figure(box_center=[0.5, 0.5, 0.5], box_size=[1.0, 1.0, 1.0], camera=PerspectiveCamera(fov=0.6…"
      ]
     },
     "metadata": {},
     "output_type": "display_data"
    }
   ],
   "source": [
    "import ipyvolume as ipv\n",
    "#fig = ny.cortex_plot(subda.hemis['lh_LR59k'], color = lh_data_labels[0])\n",
    "fig = ny.cortex_plot(subda.hemis['lh_LR59k'], color = 'r', mask = lh_data_labels[0]==33, mesh_alpha=0.5)\n",
    "#fig = ny.cortex_plot(subda.hemis['rh_LR59k'], color = 'r', mask = lh_data_labels[0]==69, mesh_alpha=0.5)\n",
    "#fig = ipv.figure()\n",
    "mesh = subda.hemis['lh_LR59k'].surface('inflated')\n",
    "(x, y, z) = mesh.coordinates[:, [v for k, v in roi_centers.values()]]\n",
    "ipv.scatter(x, y, z, marker = 'sphere', size = 5, color = 'blue')\n",
    "p = ipv.plot([x[0], x[1]], [y[0], y[1]], [z[0], z[1]], color = 'red', size = 5)\n",
    "#p.size.linewidth = 10\n",
    "ipv.show()"
   ]
  },
  {
   "cell_type": "code",
   "execution_count": 67,
   "id": "0e179444-f00b-4f05-9c33-c3810efca6cd",
   "metadata": {
    "tags": []
   },
   "outputs": [
    {
     "data": {
      "text/plain": [
       "(900,)"
      ]
     },
     "execution_count": 67,
     "metadata": {},
     "output_type": "execute_result"
    }
   ],
   "source": [
    "# label ID for every vertex\n",
    "lh_data_labels.shape\n",
    "test_idx = np.where(lh_data_labels==5)[0]\n",
    "np.mean(lh_data_bold[:, test_idx], axis = 1).shape"
   ]
  },
  {
   "cell_type": "code",
   "execution_count": 78,
   "id": "bf81e1b8-1879-49af-a1c8-44a78af87a31",
   "metadata": {
    "tags": []
   },
   "outputs": [
    {
     "data": {
      "text/plain": [
       "(1, 59292)"
      ]
     },
     "execution_count": 78,
     "metadata": {},
     "output_type": "execute_result"
    }
   ],
   "source": [
    "rh_data_labels.shape"
   ]
  },
  {
   "cell_type": "code",
   "execution_count": 55,
   "id": "5e6f35c3-cee9-4382-a24d-465c35a8f316",
   "metadata": {
    "tags": []
   },
   "outputs": [],
   "source": [
    "subcortex_data_labels"
   ]
  },
  {
   "cell_type": "code",
   "execution_count": 12,
   "id": "d09811e7-67db-4dda-a90a-952aba2181e2",
   "metadata": {
    "tags": []
   },
   "outputs": [],
   "source": [
    "# go through every unique label \n",
    "# for every label find the vertices with that label\n",
    "# average BOLD signal for all the vertices\n",
    "## ==> smaller matrix, 900 x number of labels (about 50 maybe)\n"
   ]
  },
  {
   "cell_type": "code",
   "execution_count": 13,
   "id": "f8cf306f-7af9-44c9-a587-45e9e59b1df0",
   "metadata": {
    "tags": []
   },
   "outputs": [
    {
     "data": {
      "text/plain": [
       "(901, 59292)"
      ]
     },
     "execution_count": 13,
     "metadata": {},
     "output_type": "execute_result"
    }
   ],
   "source": [
    "# merge BOLD signals and labels together\n",
    "lh_data = np.vstack((lh_data_bold, lh_data_labels))\n",
    "lh_data.shape"
   ]
  },
  {
   "cell_type": "code",
   "execution_count": 107,
   "id": "78cd371f-a093-4dce-b25b-bf921bab92c9",
   "metadata": {
    "tags": []
   },
   "outputs": [],
   "source": [
    "# unique lh label\n",
    "unique_lh = np.unique(lh_data_labels)\n",
    "unique_rh = np.unique(rh_data_labels)"
   ]
  },
  {
   "cell_type": "code",
   "execution_count": 186,
   "id": "d9d8dc45-54f4-43af-953d-63f11df30f39",
   "metadata": {
    "tags": []
   },
   "outputs": [
    {
     "data": {
      "text/plain": [
       "(70, 900)"
      ]
     },
     "execution_count": 186,
     "metadata": {},
     "output_type": "execute_result"
    }
   ],
   "source": [
    "### Generate N x T 2D matrix of mean BOLD signal for each subject\n",
    "\n",
    "avg_lh_bold_mat = []\n",
    "\n",
    "# loop through unique lh labels\n",
    "for label in unique_lh[unique_lh != 0]: # for each label that isn't 0\n",
    "    label_idx = np.where(lh_data_labels == label)[1] # get the index of the vertices that match this label\n",
    "    label_timeseriesda = np.mean(lh_data_bold[:, label_idx], axis = 1) # take the mean of the vertices within the region\n",
    "    avg_lh_bold_mat.append(label_timeseriesda) # append the mean BOLD signal of this region at each time point (volume)\n",
    "avg_lh_bold_mat = np.vstack(avg_lh_bold_mat) # stack all the regions together into a matrix\n",
    "\n",
    "avg_rh_bold_mat = []\n",
    "\n",
    "# loop through unique rh labels\n",
    "for label in unique_rh[unique_rh != 0]: # do the same in the RH\n",
    "    label_idx = np.where(rh_data_labels == label)[1]\n",
    "    label_timeseriesda = np.mean(rh_data_bold[:, label_idx], axis = 1)\n",
    "    avg_rh_bold_mat.append(label_timeseriesda)  \n",
    "avg_rh_bold_mat = np.vstack(avg_rh_bold_mat) \n",
    "\n",
    "avg_bold_mat = np.vstack((avg_lh_bold_mat, avg_rh_bold_mat)) # stack the LH and RH matrices together"
   ]
  },
  {
   "cell_type": "code",
   "execution_count": 187,
   "id": "259afa89-ba8b-4d55-b64e-802f784452f9",
   "metadata": {
    "tags": []
   },
   "outputs": [],
   "source": [
    "# avg_bold_mat_data = pd.DataFrame(avg_bold_mat)\n",
    "# avg_bold_mat_data.to_csv('/home/jovyan/test_coneff_input.csv')"
   ]
  },
  {
   "cell_type": "code",
   "execution_count": 142,
   "id": "9de81a20-a40f-4549-a051-f1fafcd8c6b6",
   "metadata": {
    "tags": []
   },
   "outputs": [],
   "source": [
    "### Generate N x N FC matrix for each subject\n",
    "subj_bold_data = subj_bold.get_fdata()\n",
    "\n",
    "num_regions = avg_bold_mat.shape[0]\n",
    "FC_mat = np.zeros((num_regions, num_regions)) # intialize empty matrix\n",
    "\n",
    "# loop through each region index\n",
    "for i_region in range(num_regions): # for each region (x-axis)\n",
    "    for j_region in range(num_regions): # and for each region (y-axis)\n",
    "        if i_region == j_region: \n",
    "            FC_mat == 0 # the correlation between the region and itself is set to 0 by convention\n",
    "        else: # otherwise compute the pearson correlation between the time series of each region with every other region\n",
    "            FC_mat[i, j] = pearsonr(subj_bold_data[:, i_region], subj_bold_data[:, j_region])[0]\n",
    "\n",
    "FC_mat_fisherz = np.arctanh(FC_mat) # to make the distribution of the values more normal, fisher-z transform them"
   ]
  },
  {
   "cell_type": "code",
   "execution_count": 142,
   "id": "d816638f-0fd7-49fb-85cb-66b293d03b6d",
   "metadata": {
    "tags": []
   },
   "outputs": [],
   "source": [
    "# FC_mat = pd.DataFrame(avg_bold_mat)\n",
    "# avg_bold_mat_data.to_csv('/home/jovyan/test_coneff_input.csv')"
   ]
  },
  {
   "cell_type": "code",
   "execution_count": null,
   "id": "0b5ab099-a1fb-47bd-b9a1-72f2158db91d",
   "metadata": {},
   "outputs": [],
   "source": []
  }
 ],
 "metadata": {
  "kernelspec": {
   "display_name": "Python 3 (ipykernel)",
   "language": "python",
   "name": "python3"
  },
  "language_info": {
   "codemirror_mode": {
    "name": "ipython",
    "version": 3
   },
   "file_extension": ".py",
   "mimetype": "text/x-python",
   "name": "python",
   "nbconvert_exporter": "python",
   "pygments_lexer": "ipython3",
   "version": "3.10.11"
  }
 },
 "nbformat": 4,
 "nbformat_minor": 5
}
