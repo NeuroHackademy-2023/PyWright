{
 "cells": [
  {
   "cell_type": "code",
   "execution_count": 8,
   "id": "bb23581f-1bbe-4a91-97c5-24ce94a4d292",
   "metadata": {
    "tags": []
   },
   "outputs": [],
   "source": [
    "from pathlib import Path\n",
    "from cloudpathlib import S3Path, S3Client\n",
    "import nibabel as nib \n",
    "import neuropythy as ny\n",
    "from nilearn import datasets, input_data, connectome\n",
    "import numpy as np\n",
    "from dipy.tracking import utils\n",
    "from dipy.io.streamline import load_tractogram"
   ]
  },
  {
   "cell_type": "code",
   "execution_count": 5,
   "id": "89774371-dfb5-457a-bff3-8e152f0ee357",
   "metadata": {
    "tags": []
   },
   "outputs": [],
   "source": [
    "subj1_dwi = nib.load('shared/HCP/115825/T1w/Diffusion/data.nii.gz')\n"
   ]
  },
  {
   "cell_type": "code",
   "execution_count": 6,
   "id": "660052ff-4007-4749-8bba-e0c68e5e7f73",
   "metadata": {
    "tags": []
   },
   "outputs": [],
   "source": [
    "affine_mat = subj1_dwi.affine"
   ]
  },
  {
   "cell_type": "code",
   "execution_count": 11,
   "id": "dffb6cb8-594f-4299-8175-ccff52cd236a",
   "metadata": {
    "tags": []
   },
   "outputs": [],
   "source": [
    "labels = nib.load('shared/HCP/115825/MNINonLinear/aparc+aseg.nii.gz') ## use voxel-space instead\n",
    "new_labels, lookup = utils.reduce_labels(labels.get_fdata())\n",
    "tracts = load_tractogram(fr'shared/HCP/115825/sub-115825_dwi_space-RASMM_model-CSD_desc-prob_tractography.trk', subj1_dwi, bbox_valid_check=False)\n",
    "tracts.remove_invalid_streamlines()\n",
    "tracts = tracts.streamlines\n",
    "m, grouping = utils.connectivity_matrix(tracts, subj1_dwi.affine, new_labels, return_mapping=True,\n",
    "                                            mapping_as_streamlines=True)\n",
    "    \n"
   ]
  },
  {
   "cell_type": "code",
   "execution_count": 13,
   "id": "6e957d54-8e3d-467e-b961-63c62c531a97",
   "metadata": {
    "tags": []
   },
   "outputs": [
    {
     "data": {
      "text/plain": [
       "(114, 114)"
      ]
     },
     "execution_count": 13,
     "metadata": {},
     "output_type": "execute_result"
    }
   ],
   "source": [
    "m.shape"
   ]
  },
  {
   "cell_type": "code",
   "execution_count": 15,
   "id": "e845d49f-3667-4736-9dcb-613b8db60ecd",
   "metadata": {
    "tags": []
   },
   "outputs": [
    {
     "data": {
      "text/plain": [
       "<matplotlib.image.AxesImage at 0x7f685b875a20>"
      ]
     },
     "execution_count": 15,
     "metadata": {},
     "output_type": "execute_result"
    },
    {
     "data": {
      "image/png": "[encoded data removed]",
      "text/plain": [
       "<Figure size 640x480 with 1 Axes>"
      ]
     },
     "metadata": {},
     "output_type": "display_data"
    }
   ],
   "source": [
    "import matplotlib.pyplot as plt\n",
    "\n",
    "plt.imshow(m >0)"
   ]
  }
 ],
 "metadata": {
  "kernelspec": {
   "display_name": "Python 3 (ipykernel)",
   "language": "python",
   "name": "python3"
  },
  "language_info": {
   "codemirror_mode": {
    "name": "ipython",
    "version": 3
   },
   "file_extension": ".py",
   "mimetype": "text/x-python",
   "name": "python",
   "nbconvert_exporter": "python",
   "pygments_lexer": "ipython3",
   "version": "3.10.11"
  }
 },
 "nbformat": 4,
 "nbformat_minor": 5
}
